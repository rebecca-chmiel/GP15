{
 "cells": [
  {
   "cell_type": "code",
   "execution_count": 2,
   "metadata": {},
   "outputs": [],
   "source": [
    "import os\n",
    "import glob\n",
    "import math"
   ]
  },
  {
   "cell_type": "code",
   "execution_count": 3,
   "metadata": {},
   "outputs": [],
   "source": [
    "# The lsqfitma.m matlab file (shown below) was adapted as a python function on 7/21/2021 by Rebecca Chmiel\n",
    "\n",
    "# % lsqfitma.m\t\t\t\t\tlast update = 1 May 95\n",
    "# % \n",
    "# % M-file to calculate a \"2-way\" least squares fit.\n",
    "# %       x,y data are passed as vectors from another m-file.\n",
    "# %       The line is fit by MINIMIZING the normal deviates.\n",
    "# %       The equation of the line is:     y = mx + b\n",
    "# %       This line is called the MAJOR AXIS.\n",
    "# %       Equations are from York (1966) Canad. J. Phys. 44: 1079-1086;\n",
    "# %            re-written from Kermack & Haldane (1950) Biometrika v37: 30-41;\n",
    "# %            after a derivation by Pearson (1901) Phil. Mag. v2(6): 559-572.\n",
    "# %\n",
    "# %       Data returned are as follows:\n",
    "# %\n",
    "# %\t[m,b,r,sm,sb,xbar,ybar] = lsqfitma(x,y)\n",
    "# %\n",
    "# %               m    =    slope\n",
    "# %               b    =    y-intercept\n",
    "# %               r    =    correlation coefficient\n",
    "# %               sm   =    standard deviation of the slope\n",
    "# %               sb   =    standard deviation of the y-intercept\n",
    "# %               xbar =    mean of x values\n",
    "# %               ybar =    mean of y values\n",
    "# %\n",
    "# %       Note that (xbar,ybar) is the centroid\n",
    " \n",
    "# function [m,b,r,sm,sb,xbar,ybar]=lsqfitma(x,y)\n",
    "\n",
    "# % Determine the size of the vector\n",
    " \n",
    "# n = length(x);\n",
    " \n",
    "# % Calculate sums and other re-used expressions\n",
    " \n",
    "# Sx = sum(x);\n",
    "# Sy = sum(y);\n",
    "# xbar = Sx/n;\n",
    "# ybar = Sy/n;\n",
    "# u = x - xbar;\n",
    "# v = y - ybar;\n",
    " \n",
    "# Suv = sum(u .* v);\n",
    "# Su2 = sum(u .^2);\n",
    "# Sv2 = sum(v .^2);\n",
    " \n",
    "# sigx = sqrt(Su2/(n-1));\n",
    "# sigy = sqrt(Sv2/(n-1));\n",
    " \n",
    "# % Calculate m, b, r, sm, and sb\n",
    " \n",
    "# m = (Sv2 - Su2 + sqrt(((Sv2 - Su2)^2) + (4 * Suv^2)))/(2 * Suv);\n",
    "# b = ybar - m * xbar;\n",
    "# r = Suv / sqrt(Su2 * Sv2);\n",
    " \n",
    "# sm = (m/r) * sqrt((1 - r^2)/n);\n",
    "# sb1 = (sigy - sigx * m)^2;\n",
    "# sb2 = (2 * sigx * sigy) + ((xbar * m * (1 + r))/r^2);\n",
    "# sb = sqrt((sb1 + ((1 - r) * m * sb2))/n);"
   ]
  },
  {
   "cell_type": "code",
   "execution_count": 4,
   "metadata": {},
   "outputs": [],
   "source": [
    "#copy this cell into your python 3 jupyter notebook\n",
    "\n",
    "def lsqfitma(x,y):\n",
    "\n",
    "    # % Determine the size of the vector\n",
    "    n = len(x)\n",
    "    \n",
    "    # % Calculate sums and other re-used expressions\n",
    "    Sx = sum(x)\n",
    "    Sy = sum(y)\n",
    "    xbar = Sx/n\n",
    "    ybar = Sy/n\n",
    "    u = x - xbar\n",
    "    v = y - ybar\n",
    "    Suv = sum(u * v)\n",
    "    Su2 = sum(u ** 2)\n",
    "    Sv2 = sum(v ** 2)\n",
    "    sigx = math.sqrt(Su2/(n-1))\n",
    "    sigy = math.sqrt(Sv2/(n-1))\n",
    "    \n",
    "    # % Calculate m, b, r, sm, and sb\n",
    "    m = (Sv2 - Su2 + math.sqrt(((Sv2 - Su2)**2) + (4 * Suv**2)))/(2 * Suv)\n",
    "    b = ybar - m * xbar\n",
    "    r = Suv / math.sqrt(Su2 * Sv2)\n",
    "    r2 = r**2\n",
    "    sm = (m / r) * math.sqrt((1 - r2)/n)\n",
    "    sb1 = (sigy - sigx *m)**2\n",
    "    sb2 = (2* sigx * sigy) + ((xbar * m * (1+r))/ r2)\n",
    "    sb = math.sqrt((sb1 + ((1-r) * m * sb2))/n)\n",
    "    print('Count:', n, '\\nSlope:', m, '+/-', sm, '\\nIntercept:', b, '+/-', sb, '\\nR2:', r2, '\\n')\n",
    "    return m,b,r,sm,sb,xbar,ybar"
   ]
  },
  {
   "cell_type": "code",
   "execution_count": 8,
   "metadata": {},
   "outputs": [
    {
     "name": "stdout",
     "output_type": "stream",
     "text": [
      "Count: 7 \n",
      "Slope: -406.3777244421201 +/- 73.29288452875542 \n",
      "Intercept: 13276.737749169559 +/- 414.3311715562758 \n",
      "R2: 0.8145316374484894 \n",
      "\n"
     ]
    }
   ],
   "source": [
    "#Example use of the lsqfitma function\n",
    "import numpy as np\n",
    "import pandas as pd\n",
    "\n",
    "#define x and y variables\n",
    "Salinity = [31.3983, 31.4509, 31.8003, 31.9401, 32.0044, 32.1071, 32.3363]\n",
    "dCo_pM = [576.428798, 397.0087055, 321.6010131, 259.1710306, 275.8365645, 271.7547984, 197.9322566]\n",
    "\n",
    "#Create arrays for each variable used in regression\n",
    "x = np.array(Salinity)\n",
    "y = np.array(dCo_pM)\n",
    "\n",
    "#Call lsqfitma function as lsqfitma(x_array, y_array)\n",
    "slope, intercept, r_value, slope_err, intercept_err, xbar, ybar = lsqfitma(x,y)"
   ]
  },
  {
   "cell_type": "code",
   "execution_count": null,
   "metadata": {},
   "outputs": [],
   "source": []
  }
 ],
 "metadata": {
  "kernelspec": {
   "display_name": "Python 3",
   "language": "python",
   "name": "python3"
  },
  "language_info": {
   "codemirror_mode": {
    "name": "ipython",
    "version": 3
   },
   "file_extension": ".py",
   "mimetype": "text/x-python",
   "name": "python",
   "nbconvert_exporter": "python",
   "pygments_lexer": "ipython3",
   "version": "3.7.6"
  }
 },
 "nbformat": 4,
 "nbformat_minor": 4
}
